{
 "cells": [
  {
   "cell_type": "code",
   "execution_count": 1,
   "id": "91d7e332",
   "metadata": {},
   "outputs": [],
   "source": [
    "import torch\n",
    "import torch.nn as nn\n",
    "import numpy as np\n",
    "from torch.utils.data import TensorDataset, DataLoader, RandomSampler"
   ]
  },
  {
   "cell_type": "code",
   "execution_count": 75,
   "id": "969849d2",
   "metadata": {},
   "outputs": [],
   "source": [
    "class DNN(nn.Module):\n",
    "    def __init__(self, input_dim=1, output_dim=6, hidden_layers=[64,64]):\n",
    "        super(DNN, self).__init__()\n",
    "        net = nn.ModuleList([])\n",
    "\n",
    "        net.append(nn.Linear(input_dim, hidden_layers[0]))\n",
    "        net.append(nn.Tanh())\n",
    "\n",
    "        for i in range(len(hidden_layers) - 1):\n",
    "            net.append(nn.Linear(hidden_layers[i], hidden_layers[i+1]))\n",
    "            net.append(nn.Tanh())\n",
    "\n",
    "        net.append(nn.Linear(hidden_layers[-1], output_dim))\n",
    "\n",
    "        self.net = nn.Sequential(*net)\n",
    "\n",
    "    def forward(self, x):\n",
    "        return self.net(x)\n",
    "    \n",
    "class Parameter(nn.Module):\n",
    "    def __init__(self, parameter_dim=2):\n",
    "        super(Parameter, self).__init__()\n",
    "        self.parameter = nn.ParameterList([nn.Parameter(torch.randn(parameter_dim))])\n",
    "\n",
    "    def forward(self, x):\n",
    "        return self.parameter[0]"
   ]
  },
  {
   "cell_type": "code",
   "execution_count": 3,
   "id": "fb857734",
   "metadata": {},
   "outputs": [],
   "source": [
    "data = np.loadtxt('data_lorentz/train.txt')"
   ]
  },
  {
   "cell_type": "code",
   "execution_count": 4,
   "id": "e479f3e3",
   "metadata": {},
   "outputs": [
    {
     "name": "stdout",
     "output_type": "stream",
     "text": [
      "(1500, 4)\n",
      "1.6881171100004457\n",
      "-1.6882507966870368\n"
     ]
    }
   ],
   "source": [
    "print(data.shape)\n",
    "print(np.max(data))\n",
    "print(np.min(data))"
   ]
  },
  {
   "cell_type": "code",
   "execution_count": 16,
   "id": "4d0a7ca9",
   "metadata": {},
   "outputs": [],
   "source": [
    "targets = torch.tensor(data)\n",
    "\n",
    "for i in range(targets.shape[1]):\n",
    "    targets[:, i] = 2 * (targets[:, i] - torch.min(targets[:, i])) / (torch.max(targets[:, i]) - torch.min(targets[:, i])) - 1\n",
    "\n",
    "inputs = torch.linspace(-1, 1, targets.shape[0])\n",
    "inputs = inputs.unsqueeze(1)"
   ]
  },
  {
   "cell_type": "code",
   "execution_count": 76,
   "id": "c49d6e2a",
   "metadata": {},
   "outputs": [],
   "source": [
    "model = DNN(input_dim=1, output_dim=4, hidden_layers=[64, 64, 64])\n",
    "para_estimates = Parameter(parameter_dim=2)"
   ]
  },
  {
   "cell_type": "code",
   "execution_count": 65,
   "id": "4bc7cccf",
   "metadata": {},
   "outputs": [],
   "source": [
    "batch_size = 128\n",
    "dataset = torch.utils.data.TensorDataset(inputs, targets)\n",
    "dataloader = DataLoader(dataset, batch_size=batch_size, shuffle=True)"
   ]
  },
  {
   "cell_type": "code",
   "execution_count": null,
   "id": "24dfae40",
   "metadata": {},
   "outputs": [],
   "source": [
    "def diff_eq_loss(u_t, u, m, q):\n",
    "    v = u[:, :2]\n",
    "    x = u[:, 2:]\n",
    "    rhs = torch.cat((m * v, q * x / (100 * (x[:, 0:1]**2 + x[:, 1:2]**2)**1.5)), dim=1)\n",
    "\n",
    "    matrix = torch.zeros(4, 4)\n",
    "    matrix[0, 2] = -1 / m\n",
    "    matrix[1, 3] = -1 / m\n",
    "    matrix[2, 0] = 1 / m\n",
    "    matrix[3, 1] = 1 / m\n",
    "    matrix[0, 1] = q * torch.sqrt(x[:, 0]**2 + x[:, 1]**2) / m**2\n",
    "    matrix[1, 0] = -q * torch.sqrt(x[:, 0]**2 + x[:, 1]**2) / m**2\n",
    "\n",
    "\n",
    "    loss = torch.mean(torch.abs(u_t.T - torch.matmul(rhs.T, matrix.T)))\n",
    "\n",
    "    return loss\n"
   ]
  },
  {
   "cell_type": "code",
   "execution_count": 90,
   "id": "9b357fd1",
   "metadata": {},
   "outputs": [
    {
     "ename": "RuntimeError",
     "evalue": "The size of tensor a (2) must match the size of tensor b (128) at non-singleton dimension 1",
     "output_type": "error",
     "traceback": [
      "\u001b[0;31m---------------------------------------------------------------------------\u001b[0m",
      "\u001b[0;31mRuntimeError\u001b[0m                              Traceback (most recent call last)",
      "Cell \u001b[0;32mIn[90], line 19\u001b[0m\n\u001b[1;32m     16\u001b[0m u_t \u001b[38;5;241m=\u001b[39m torch\u001b[38;5;241m.\u001b[39mautograd\u001b[38;5;241m.\u001b[39mgrad(output, t, grad_outputs\u001b[38;5;241m=\u001b[39mtorch\u001b[38;5;241m.\u001b[39mones_like(output), create_graph\u001b[38;5;241m=\u001b[39m\u001b[38;5;28;01mTrue\u001b[39;00m)[\u001b[38;5;241m0\u001b[39m]\n\u001b[1;32m     18\u001b[0m loss_data \u001b[38;5;241m=\u001b[39m torch\u001b[38;5;241m.\u001b[39mmean((output[:, :\u001b[38;5;241m4\u001b[39m] \u001b[38;5;241m-\u001b[39m u)\u001b[38;5;241m*\u001b[39m\u001b[38;5;241m*\u001b[39m\u001b[38;5;241m2\u001b[39m)\n\u001b[0;32m---> 19\u001b[0m loss_equation \u001b[38;5;241m=\u001b[39m \u001b[43mdiff_eq_loss\u001b[49m\u001b[43m(\u001b[49m\u001b[43mu_t\u001b[49m\u001b[43m[\u001b[49m\u001b[43m:\u001b[49m\u001b[43m,\u001b[49m\u001b[43m \u001b[49m\u001b[43m:\u001b[49m\u001b[38;5;241;43m4\u001b[39;49m\u001b[43m]\u001b[49m\u001b[43m,\u001b[49m\u001b[43m \u001b[49m\u001b[43mu\u001b[49m\u001b[43m,\u001b[49m\u001b[43m \u001b[49m\u001b[43mm\u001b[49m\u001b[43m,\u001b[49m\u001b[43m \u001b[49m\u001b[43mq\u001b[49m\u001b[43m)\u001b[49m\n\u001b[1;32m     21\u001b[0m loss \u001b[38;5;241m=\u001b[39m loss_data \u001b[38;5;241m+\u001b[39m factor_physics \u001b[38;5;241m*\u001b[39m loss_equation\n\u001b[1;32m     22\u001b[0m loss\u001b[38;5;241m.\u001b[39mbackward()\n",
      "Cell \u001b[0;32mIn[89], line 4\u001b[0m, in \u001b[0;36mdiff_eq_loss\u001b[0;34m(u_t, u, m, q)\u001b[0m\n\u001b[1;32m      2\u001b[0m v \u001b[38;5;241m=\u001b[39m u[:, :\u001b[38;5;241m2\u001b[39m]\n\u001b[1;32m      3\u001b[0m x \u001b[38;5;241m=\u001b[39m u[:, \u001b[38;5;241m2\u001b[39m:]\n\u001b[0;32m----> 4\u001b[0m \u001b[38;5;28mprint\u001b[39m(\u001b[43mx\u001b[49m\u001b[43m \u001b[49m\u001b[38;5;241;43m/\u001b[39;49m\u001b[43m \u001b[49m\u001b[43m(\u001b[49m\u001b[38;5;241;43m100\u001b[39;49m\u001b[43m \u001b[49m\u001b[38;5;241;43m*\u001b[39;49m\u001b[43m \u001b[49m\u001b[43m(\u001b[49m\u001b[43mx\u001b[49m\u001b[43m[\u001b[49m\u001b[43m:\u001b[49m\u001b[43m,\u001b[49m\u001b[43m \u001b[49m\u001b[38;5;241;43m0\u001b[39;49m\u001b[43m]\u001b[49m\u001b[38;5;241;43m*\u001b[39;49m\u001b[38;5;241;43m*\u001b[39;49m\u001b[38;5;241;43m2\u001b[39;49m\u001b[43m \u001b[49m\u001b[38;5;241;43m+\u001b[39;49m\u001b[43m \u001b[49m\u001b[43mx\u001b[49m\u001b[43m[\u001b[49m\u001b[43m:\u001b[49m\u001b[43m,\u001b[49m\u001b[43m \u001b[49m\u001b[38;5;241;43m1\u001b[39;49m\u001b[43m]\u001b[49m\u001b[38;5;241;43m*\u001b[39;49m\u001b[38;5;241;43m*\u001b[39;49m\u001b[38;5;241;43m2\u001b[39;49m\u001b[43m)\u001b[49m\u001b[38;5;241;43m*\u001b[39;49m\u001b[38;5;241;43m*\u001b[39;49m\u001b[38;5;241;43m1.5\u001b[39;49m\u001b[43m)\u001b[49m)\n\u001b[1;32m      5\u001b[0m rhs \u001b[38;5;241m=\u001b[39m torch\u001b[38;5;241m.\u001b[39mcat((m \u001b[38;5;241m*\u001b[39m v, q \u001b[38;5;241m*\u001b[39m x \u001b[38;5;241m/\u001b[39m (\u001b[38;5;241m100\u001b[39m \u001b[38;5;241m*\u001b[39m (x[:, \u001b[38;5;241m0\u001b[39m]\u001b[38;5;241m*\u001b[39m\u001b[38;5;241m*\u001b[39m\u001b[38;5;241m2\u001b[39m \u001b[38;5;241m+\u001b[39m x[:, \u001b[38;5;241m1\u001b[39m]\u001b[38;5;241m*\u001b[39m\u001b[38;5;241m*\u001b[39m\u001b[38;5;241m2\u001b[39m)\u001b[38;5;241m*\u001b[39m\u001b[38;5;241m*\u001b[39m\u001b[38;5;241m1.5\u001b[39m)), dim\u001b[38;5;241m=\u001b[39m\u001b[38;5;241m1\u001b[39m)\n\u001b[1;32m      7\u001b[0m matrix \u001b[38;5;241m=\u001b[39m torch\u001b[38;5;241m.\u001b[39mzeros(\u001b[38;5;241m4\u001b[39m, \u001b[38;5;241m4\u001b[39m)\n",
      "\u001b[0;31mRuntimeError\u001b[0m: The size of tensor a (2) must match the size of tensor b (128) at non-singleton dimension 1"
     ]
    }
   ],
   "source": [
    "from itertools import chain\n",
    "optimizer = torch.optim.AdamW(chain(model.parameters(), para_estimates.parameters()), lr=1e-4)\n",
    "\n",
    "epochs = 100\n",
    "factor_physics = 0.1\n",
    "\n",
    "for i in range(epochs):\n",
    "    for batch in dataloader:\n",
    "        t, u = batch\n",
    "        t.requires_grad_()\n",
    "        output = model(t)\n",
    "        parameters = para_estimates(torch.randn(1))\n",
    "        m = parameters[0]\n",
    "        q = parameters[1]\n",
    "\n",
    "        u_t = torch.autograd.grad(output, t, grad_outputs=torch.ones_like(output), create_graph=True)[0]\n",
    "\n",
    "        loss_data = torch.mean((output[:, :4] - u)**2)\n",
    "        loss_equation = diff_eq_loss(u_t[:, :4], u, m, q)\n",
    "\n",
    "        loss = loss_data + factor_physics * loss_equation\n",
    "        loss.backward()\n",
    "        optimizer.step()\n",
    "\n",
    "        print(f'Epoch: {i} | Data Loss: {loss_data} | Physics Loss: {loss_equation}')"
   ]
  },
  {
   "cell_type": "code",
   "execution_count": 79,
   "id": "0deabcb4",
   "metadata": {},
   "outputs": [
    {
     "name": "stdout",
     "output_type": "stream",
     "text": [
      "torch.Size([])\n"
     ]
    }
   ],
   "source": [
    "print(m.shape)"
   ]
  },
  {
   "cell_type": "code",
   "execution_count": 84,
   "id": "b2557646",
   "metadata": {},
   "outputs": [
    {
     "name": "stdout",
     "output_type": "stream",
     "text": [
      "tensor(0.5205, grad_fn=<SelectBackward0>)\n"
     ]
    }
   ],
   "source": [
    "print(q)"
   ]
  },
  {
   "cell_type": "code",
   "execution_count": 44,
   "id": "7029322a",
   "metadata": {},
   "outputs": [
    {
     "name": "stdout",
     "output_type": "stream",
     "text": [
      "tensor([[ 1.4298e+00,  1.6585e-01,  1.2683e-01,  4.4790e-01],\n",
      "        [ 1.5370e+00,  1.3696e+00,  2.6426e+00, -5.6680e-01],\n",
      "        [-1.1812e+00, -1.6765e+00,  2.7335e-01,  1.6729e-01],\n",
      "        [ 1.3919e+00, -1.3108e+00, -9.7579e-01, -1.8688e+00],\n",
      "        [ 2.2220e-02,  1.0162e+00, -8.5708e-01, -1.4967e+00],\n",
      "        [-7.4280e-01,  2.3078e-01,  2.4906e+00,  8.9956e-01],\n",
      "        [-1.0917e+00,  3.7615e-01, -2.7556e-02, -1.1070e+00],\n",
      "        [ 4.7760e-01, -3.5378e-01, -1.2565e+00,  9.4480e-01],\n",
      "        [-7.1277e-01, -6.0166e-01,  1.1473e+00, -1.8579e+00],\n",
      "        [-8.3687e-01, -4.7155e-01,  4.0082e-01, -3.9907e-01],\n",
      "        [ 1.9920e-01,  1.1962e+00, -2.7494e-01, -5.9108e-01],\n",
      "        [ 2.0649e-01,  1.2994e+00, -5.7723e-02, -1.7688e-01],\n",
      "        [ 1.3391e-01,  9.3440e-01,  1.6281e-03, -1.3757e+00],\n",
      "        [ 8.7636e-01, -8.8103e-01,  8.4610e-01, -2.5312e-01],\n",
      "        [-1.9729e-03,  1.8605e-01, -7.3161e-01,  9.9392e-02],\n",
      "        [-5.4423e-01,  8.3947e-01,  4.7877e-01, -5.1627e-01],\n",
      "        [ 5.9096e-01,  2.6620e-02,  9.1045e-01,  7.1128e-01],\n",
      "        [-2.1773e-01, -5.3387e-01, -2.5779e-01, -7.2515e-01],\n",
      "        [ 4.3367e-01, -1.9891e-01, -5.0535e-01,  5.6000e-01],\n",
      "        [ 2.9068e+00, -1.7691e+00, -1.2522e+00,  1.1622e+00],\n",
      "        [-8.5827e-01,  1.9655e-01, -1.8670e+00,  1.1429e-01],\n",
      "        [-6.0960e-01, -1.0377e+00, -1.7398e-01,  1.7938e-01],\n",
      "        [ 2.2828e-02,  1.1749e+00, -2.2938e-01,  9.4881e-01],\n",
      "        [ 6.0654e-01,  1.7036e-01,  3.0265e-01,  4.8195e-01],\n",
      "        [-1.1714e+00, -5.3771e-02,  5.6431e-01, -7.5821e-01],\n",
      "        [-5.2794e-02, -6.9851e-01,  1.1399e+00,  8.7800e-01],\n",
      "        [-2.3693e-01, -5.7174e-02, -1.7832e+00, -4.4497e-01],\n",
      "        [-1.7744e+00, -1.9039e-02,  2.5957e-01, -9.9434e-01],\n",
      "        [ 4.6544e-01, -2.1299e-01,  7.5944e-02,  7.3495e-01],\n",
      "        [-3.6345e-01,  2.7507e-01,  1.2434e+00, -5.2625e-01],\n",
      "        [ 4.5933e-01, -5.0642e-01,  1.3020e+00,  4.0873e-01],\n",
      "        [-7.8916e-01,  3.2739e-01, -1.5942e+00,  6.0341e-02],\n",
      "        [-3.3755e-01,  4.9520e-01,  2.0515e+00,  2.3344e-01],\n",
      "        [ 4.9426e-01,  6.2667e-01,  2.2705e+00, -1.6224e+00],\n",
      "        [ 2.5506e+00, -7.9109e-02,  9.6058e-01,  1.2593e+00],\n",
      "        [ 4.3138e-01,  4.4475e-01,  5.1209e-01,  4.5421e-01],\n",
      "        [-2.2338e-01,  6.1196e-01,  1.6240e+00,  5.7549e-01],\n",
      "        [-1.9046e+00, -5.2138e-01, -9.1317e-01,  9.3992e-01],\n",
      "        [-1.0071e+00,  1.3615e+00,  3.5869e-01,  7.8467e-01],\n",
      "        [ 9.2167e-01, -4.6520e-01, -3.9526e-01, -7.3030e-02],\n",
      "        [-7.8518e-01, -1.9977e+00, -3.7218e-01,  8.9349e-01],\n",
      "        [-1.4270e+00,  7.3225e-02,  4.3522e-01,  1.0152e+00],\n",
      "        [ 2.1956e+00, -2.1854e+00,  9.1675e-01,  5.7128e-01],\n",
      "        [-2.1616e+00, -1.4456e+00, -1.1965e+00,  4.2992e-02],\n",
      "        [ 1.0604e+00, -5.3205e-01,  2.5411e+00,  6.7623e-01],\n",
      "        [ 1.0367e+00,  2.9905e-01,  3.3657e-01,  2.7019e-01],\n",
      "        [-5.8546e-01, -1.3773e+00, -1.9553e-01,  4.9311e-01],\n",
      "        [-1.1232e-01, -3.6466e-01,  2.1315e-01, -3.1752e-01],\n",
      "        [ 2.1591e+00, -8.2700e-01, -7.2613e-01, -1.1376e+00],\n",
      "        [-1.1890e+00,  3.2031e-01, -1.2022e+00,  7.1228e-02],\n",
      "        [ 4.8772e-01, -1.0203e+00, -9.7462e-01, -1.2790e-01],\n",
      "        [-4.0721e-01, -9.5057e-01,  6.4165e-01, -1.2004e-01],\n",
      "        [ 2.2619e+00,  8.5104e-01, -2.0732e+00, -8.9548e-01],\n",
      "        [ 9.2713e-03,  1.7164e+00, -7.2656e-01, -5.4586e-01],\n",
      "        [ 1.1461e-01,  6.3970e-01,  2.1796e-02,  1.0075e+00],\n",
      "        [-2.6053e-01, -3.6728e-01, -8.8677e-01, -3.8683e-01],\n",
      "        [ 8.9310e-02, -5.8104e-01, -1.5075e+00,  9.1292e-01],\n",
      "        [ 9.3667e-01, -1.3126e-01,  8.6005e-01, -4.2912e-01],\n",
      "        [-1.5875e+00,  1.4404e-01, -6.5074e-01,  1.4005e-01],\n",
      "        [-9.5037e-01, -4.5689e-02, -6.4283e-01, -1.3552e+00],\n",
      "        [-1.2088e-01, -2.2134e+00,  2.1696e-01,  1.6589e+00],\n",
      "        [-2.2336e+00,  1.8879e-01,  4.7482e-01, -2.2879e-01],\n",
      "        [ 3.9918e-01,  6.8871e-01, -1.7923e+00,  1.4683e+00],\n",
      "        [ 1.6922e+00, -5.5708e-02, -2.5943e-01, -8.4664e-01],\n",
      "        [-3.4436e-01,  5.1320e-01,  1.3412e-01,  5.0014e-01],\n",
      "        [-6.3735e-02,  7.1409e-01, -1.3906e+00,  2.3287e+00],\n",
      "        [ 1.4133e+00,  5.5245e-01, -2.6591e-01, -4.7622e-01],\n",
      "        [ 1.1617e+00,  1.1991e+00, -1.3544e+00, -1.5953e+00],\n",
      "        [-5.0145e-01,  3.5064e-01, -1.3247e+00,  7.6947e-01],\n",
      "        [-5.7470e-01, -2.2982e-01,  2.0385e+00,  7.0887e-02],\n",
      "        [ 1.3079e-01,  5.2159e-01, -2.4893e-01, -6.5521e-01],\n",
      "        [ 9.1275e-02,  3.5443e-01,  1.7974e-01,  1.6092e+00],\n",
      "        [-2.5816e-01, -4.4657e-01, -1.3395e-01,  1.0062e+00],\n",
      "        [-3.1382e-01,  8.4718e-01, -7.8575e-01, -1.8830e+00],\n",
      "        [ 1.0433e+00, -4.2342e-01,  8.7478e-01,  1.8758e+00],\n",
      "        [ 1.0645e+00,  4.5565e-01, -3.5189e-01, -6.8378e-01],\n",
      "        [-1.6456e+00,  2.1896e+00, -2.1083e+00,  1.6111e-01],\n",
      "        [ 3.6603e-01, -1.8583e+00,  6.2422e-01,  1.4093e-01],\n",
      "        [-2.9035e+00,  7.6001e-01,  8.3922e-01, -2.6255e+00],\n",
      "        [-7.0750e-01,  5.6403e-01, -5.6515e-01,  9.6002e-02],\n",
      "        [-1.2509e+00,  5.6385e-01, -1.5767e+00,  1.1365e+00],\n",
      "        [ 8.9102e-01, -8.2599e-01, -1.1023e+00,  2.1462e+00],\n",
      "        [-6.6138e-01,  2.6796e-01,  1.1876e+00, -7.0908e-01],\n",
      "        [ 1.4464e+00, -9.9450e-01,  3.2017e-01, -1.2156e+00],\n",
      "        [-6.9520e-01,  5.2957e-01,  2.2948e-01,  2.9387e-01],\n",
      "        [-1.2575e+00,  7.7127e-01,  1.1100e+00, -1.9479e+00],\n",
      "        [ 4.5207e-01, -1.2111e+00,  8.9175e-01,  8.2081e-01],\n",
      "        [-6.0638e-01,  6.2539e-01,  1.6445e-02,  7.5834e-01],\n",
      "        [-6.6722e-01, -1.6726e-02, -6.7478e-01, -1.3877e-01],\n",
      "        [-5.6696e-01, -1.8705e+00,  4.0478e-02, -2.1674e-01],\n",
      "        [ 5.4174e-02,  1.3463e-01, -1.5617e+00,  1.7765e-02],\n",
      "        [-1.9940e-01, -1.7768e+00, -9.7431e-01,  1.7894e+00],\n",
      "        [-4.8978e-01, -1.2792e+00,  1.6862e+00,  3.2566e-01],\n",
      "        [-5.7827e-01, -8.2920e-02,  4.2203e-01, -1.2849e+00],\n",
      "        [-4.3521e-01, -4.3565e-01, -6.9975e-01, -1.8867e+00],\n",
      "        [ 1.1824e-01,  1.3924e+00, -8.6495e-01, -2.3281e-01],\n",
      "        [-7.1590e-01, -2.5516e+00, -1.5386e-01, -1.2044e+00],\n",
      "        [-1.1004e+00, -6.5329e-01, -1.8739e+00, -8.9628e-01],\n",
      "        [-1.1568e+00, -2.3302e+00,  4.7137e-01,  1.0188e+00],\n",
      "        [ 7.5892e-01, -1.5149e+00,  6.1747e-01, -9.7577e-01],\n",
      "        [ 1.1321e+00, -6.0296e-01,  4.7643e-01, -1.9368e-01],\n",
      "        [ 1.3420e+00, -1.3595e+00,  8.6581e-01, -1.9854e+00],\n",
      "        [ 1.1238e+00, -5.7265e-01,  1.5692e+00,  7.2200e-01],\n",
      "        [ 1.0048e+00, -8.6399e-01, -1.1027e-01, -8.7548e-01],\n",
      "        [-6.1218e-01, -1.7854e+00, -1.2210e+00, -3.8680e-01],\n",
      "        [-9.0305e-01,  7.2573e-01,  4.9989e-01, -8.0260e-01],\n",
      "        [-6.1506e-01,  2.9652e-01, -1.4771e+00,  5.5315e-01],\n",
      "        [ 7.0173e-01,  5.1163e-01,  7.0557e-01, -2.5595e-01],\n",
      "        [-1.0434e+00, -2.7275e+00,  1.0273e+00,  1.8319e+00],\n",
      "        [-4.5071e-01,  7.1372e-01, -5.1414e-01, -5.9163e-01],\n",
      "        [-4.1123e-01,  3.1413e+00, -7.2116e-01,  3.7937e-01],\n",
      "        [-5.0417e-01,  1.1370e+00,  2.6569e-02,  3.1344e+00],\n",
      "        [-6.3469e-01, -1.9249e-01, -1.6668e+00,  1.0865e+00],\n",
      "        [ 4.8937e-01, -1.5295e-02,  2.0537e+00,  2.7691e+00],\n",
      "        [ 1.1260e+00,  2.2380e+00, -6.0548e-01, -1.5123e+00],\n",
      "        [-3.7742e-01,  1.4805e+00, -2.7539e-01, -1.9220e+00],\n",
      "        [-2.5064e-01,  4.0813e-01, -1.0742e+00,  5.7766e-03],\n",
      "        [ 1.1983e+00,  1.1053e+00, -1.1382e+00,  7.8118e-01],\n",
      "        [ 4.5734e-01, -2.4566e-01,  9.8991e-01, -3.3462e-01],\n",
      "        [ 1.2062e+00,  6.4833e-01, -5.6407e-01,  1.1672e+00],\n",
      "        [ 5.3360e-01,  3.3653e-01,  4.8969e-01, -1.1003e+00],\n",
      "        [-1.2974e+00,  2.7033e-01, -1.4263e-02, -2.2167e-02],\n",
      "        [-3.7166e-01, -1.2522e+00, -2.1435e-01,  9.4942e-01],\n",
      "        [-4.0018e-01,  5.9737e-01,  2.3713e-01, -6.4130e-01],\n",
      "        [ 3.7241e-01,  3.7406e-01, -1.5172e+00,  7.6100e-01],\n",
      "        [ 1.0744e+00, -8.1078e-01,  3.6170e-01,  5.4900e-01],\n",
      "        [ 8.9226e-01, -2.0719e-01,  7.2884e-01,  2.1583e-01],\n",
      "        [ 2.2672e+00,  9.7493e-02,  1.4732e+00,  7.6012e-01]])\n"
     ]
    }
   ],
   "source": [
    "a = torch.randn((128, 2))\n",
    "b = torch.randn((128, 2))\n",
    "print(torch.cat((a, b), dim=1))"
   ]
  },
  {
   "cell_type": "code",
   "execution_count": 32,
   "id": "72cbf509",
   "metadata": {},
   "outputs": [
    {
     "ename": "IndexError",
     "evalue": "tuple index out of range",
     "output_type": "error",
     "traceback": [
      "\u001b[0;31m---------------------------------------------------------------------------\u001b[0m",
      "\u001b[0;31mIndexError\u001b[0m                                Traceback (most recent call last)",
      "Cell \u001b[0;32mIn[32], line 1\u001b[0m\n\u001b[0;32m----> 1\u001b[0m \u001b[38;5;28mprint\u001b[39m(\u001b[43mu_t\u001b[49m\u001b[43m[\u001b[49m\u001b[38;5;241;43m1\u001b[39;49m\u001b[43m]\u001b[49m)\n",
      "\u001b[0;31mIndexError\u001b[0m: tuple index out of range"
     ]
    }
   ],
   "source": [
    "print(u_t[1])"
   ]
  },
  {
   "cell_type": "code",
   "execution_count": 27,
   "id": "c70964d8",
   "metadata": {},
   "outputs": [
    {
     "ename": "AttributeError",
     "evalue": "'NoneType' object has no attribute 'shape'",
     "output_type": "error",
     "traceback": [
      "\u001b[0;31m---------------------------------------------------------------------------\u001b[0m",
      "\u001b[0;31mAttributeError\u001b[0m                            Traceback (most recent call last)",
      "Cell \u001b[0;32mIn[27], line 1\u001b[0m\n\u001b[0;32m----> 1\u001b[0m \u001b[38;5;28mprint\u001b[39m(\u001b[43mu_t\u001b[49m\u001b[38;5;241;43m.\u001b[39;49m\u001b[43mshape\u001b[49m)\n",
      "\u001b[0;31mAttributeError\u001b[0m: 'NoneType' object has no attribute 'shape'"
     ]
    }
   ],
   "source": [
    "print(u_t.shape)"
   ]
  },
  {
   "cell_type": "code",
   "execution_count": 22,
   "id": "50468417",
   "metadata": {},
   "outputs": [
    {
     "name": "stdout",
     "output_type": "stream",
     "text": [
      "torch.Size([128, 6])\n"
     ]
    }
   ],
   "source": [
    "print(output.shape)"
   ]
  },
  {
   "cell_type": "code",
   "execution_count": null,
   "id": "a9e82c02",
   "metadata": {},
   "outputs": [],
   "source": []
  }
 ],
 "metadata": {
  "kernelspec": {
   "display_name": "venv",
   "language": "python",
   "name": "python3"
  },
  "language_info": {
   "codemirror_mode": {
    "name": "ipython",
    "version": 3
   },
   "file_extension": ".py",
   "mimetype": "text/x-python",
   "name": "python",
   "nbconvert_exporter": "python",
   "pygments_lexer": "ipython3",
   "version": "3.10.12"
  }
 },
 "nbformat": 4,
 "nbformat_minor": 5
}

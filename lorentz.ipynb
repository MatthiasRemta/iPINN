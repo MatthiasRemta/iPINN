{
 "cells": [
  {
   "cell_type": "code",
   "execution_count": 27,
   "id": "91d7e332",
   "metadata": {},
   "outputs": [],
   "source": [
    "import torch\n",
    "import torch.nn as nn\n",
    "import numpy as np\n",
    "from torch.utils.data import TensorDataset, DataLoader, RandomSampler"
   ]
  },
  {
   "cell_type": "code",
   "execution_count": 6,
   "id": "969849d2",
   "metadata": {},
   "outputs": [],
   "source": [
    "class DNN(nn.Module):\n",
    "    def __init__(self, input_dim=1, output_dim=6, hidden_layers=[64,64]):\n",
    "        super(DNN, self).__init__()\n",
    "        net = nn.ModuleList([])\n",
    "\n",
    "        net.append(nn.Linear(input_dim, hidden_layers[0]))\n",
    "        net.append(nn.Tanh())\n",
    "\n",
    "        for i in range(len(hidden_layers) - 1):\n",
    "            net.append(nn.Linear(hidden_layers[i], hidden_layers[i+1]))\n",
    "            net.append(nn.Tanh())\n",
    "\n",
    "        net.append(nn.Linear(hidden_layers[-1], output_dim))\n",
    "\n",
    "        self.net = nn.Sequential(*net)\n",
    "\n",
    "    def forward(self, x):\n",
    "        return self.net(x)"
   ]
  },
  {
   "cell_type": "code",
   "execution_count": 20,
   "id": "fb857734",
   "metadata": {},
   "outputs": [],
   "source": [
    "data = np.loadtxt('data_lorentz/train.txt')"
   ]
  },
  {
   "cell_type": "code",
   "execution_count": 5,
   "id": "e479f3e3",
   "metadata": {},
   "outputs": [
    {
     "name": "stdout",
     "output_type": "stream",
     "text": [
      "(1500, 4)\n",
      "1.6881171100004457\n",
      "-1.6882507966870368\n"
     ]
    }
   ],
   "source": [
    "print(data.shape)\n",
    "print(np.max(data))\n",
    "print(np.min(data))"
   ]
  },
  {
   "cell_type": "code",
   "execution_count": 23,
   "id": "4d0a7ca9",
   "metadata": {},
   "outputs": [],
   "source": [
    "targets = torch.tensor(data)\n",
    "\n",
    "for i in range(targets.shape[1]):\n",
    "    targets[:, i] = 2 * (targets[:, i] - torch.min(targets[:, i])) / (torch.max(targets[:, i]) - torch.min(targets[:, i])) - 1\n",
    "\n",
    "inputs = torch.linspace(-1, 1, targets.shape[0])"
   ]
  },
  {
   "cell_type": "code",
   "execution_count": 7,
   "id": "c49d6e2a",
   "metadata": {},
   "outputs": [],
   "source": [
    "model = DNN(input_dim=1, output_dim=6, hidden_layers=[64, 64, 64])"
   ]
  },
  {
   "cell_type": "code",
   "execution_count": 28,
   "id": "4bc7cccf",
   "metadata": {},
   "outputs": [],
   "source": [
    "batch_size = 128\n",
    "dataset = torch.utils.data.TensorDataset(inputs, targets)\n",
    "dataloader = DataLoader(dataset, batch_size=batch_size, shuffle=True)"
   ]
  },
  {
   "cell_type": "code",
   "execution_count": null,
   "id": "9b357fd1",
   "metadata": {},
   "outputs": [],
   "source": []
  },
  {
   "cell_type": "code",
   "execution_count": null,
   "id": "a9e82c02",
   "metadata": {},
   "outputs": [],
   "source": []
  }
 ],
 "metadata": {
  "kernelspec": {
   "display_name": "venv",
   "language": "python",
   "name": "python3"
  },
  "language_info": {
   "codemirror_mode": {
    "name": "ipython",
    "version": 3
   },
   "file_extension": ".py",
   "mimetype": "text/x-python",
   "name": "python",
   "nbconvert_exporter": "python",
   "pygments_lexer": "ipython3",
   "version": "3.10.12"
  }
 },
 "nbformat": 4,
 "nbformat_minor": 5
}
